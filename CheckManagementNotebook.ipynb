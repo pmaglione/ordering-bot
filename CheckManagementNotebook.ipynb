{
 "cells": [
  {
   "cell_type": "markdown",
   "metadata": {},
   "source": [
    "# Order Management Challenge\n",
    "\n",
    "**Objective:** \n",
    "Given a guest $check$, the guest decide to $change$ one of the items for another. The function should return a new modified check.\n",
    "\n",
    "* Input: **List** check, **String** new_order\n",
    "* Output: **List** new_check\n",
    "\n",
    "\n",
    "**Restrinctions**\n",
    "* The function works only with english words.\n",
    "* The check is a list, items are composed by strings, each item have a int number, 0..N adjetives and 1 noun.\n",
    "* The intent of the $new\\_order$ is always a change.\n",
    "* The $new\\_order$ always reference to an existing item in the $check$.\n",
    "* The item reference in $new\\_order$ can be singular, plural or synonym.\n",
    "\n",
    "\n",
    "\n",
    "**Examples**:\n",
    "- $check$: \n",
    "    - [\"2 large pepperoni pizzas\", \"3 sugar free sodas\"]\n",
    "\n",
    "- $new\\_order$:\n",
    "    - \"Make one soda reguar\" **singular version**\n",
    "    - \"Make one of the drinks a regular\" **synonym**\n",
    "    \n",
    "- $new\\_check$:\n",
    "    - [\"2 large pepperoni pizzas\", \"2 sugar free sodas\", \"1 regular soda\"]\n",
    "    \n",
    "    \n",
    "    \n",
    "    \n",
    "**Goal**:\n",
    "\n",
    "We are given:\n",
    "- A $check$ array with items where the amount is indicated with a integer\n",
    "- The $new\\_order$ is always a $change$ intent from an existing item to another, regardless of being a singular, plural or synonym of the item\n",
    "\n",
    "Our goal and logic:\n",
    "    1. Detect the original $check$ items and amounts\n",
    "    2. Detect the new_order item and amount\n",
    "    3. Detect the similarity between the new_order and the original check to known where we need to execute the change\n",
    "    4. Execute the change:\n",
    "        - Decrease the amount of existing item, if amount is 0 it should be removed\n",
    "        - Add the new item to the list\n",
    "        \n",
    "As additional logic we will contemplate the cases when no numbers are specified, this can have different expressions:\n",
    "- Singular: \"Change a water for juice\"        --> Here we should remove 1 water and add 1 juice\n",
    "- Plural:   \"Change the waters for juices\"    --> Here we should remove all waters and add the same amount of juices\n",
    "    \n",
    "\n",
    "\n",
    "\n",
    "**SpaCy Features**\n",
    "\n",
    "* Tokenization: is the task of splitting a text into meaningful segments, called tokens.\n",
    "\n",
    "* Tokens similarity: similarity is determined by comparing word vectors or “word embeddings”, multi-dimensional meaning representations of a word. Word vectors can be generated using an algorithm like word2vec.\n",
    "\n",
    "* en_vectors_web_lg dataset: this dataset provides a large vocabulary with more vectors, including over 1 million unique vectors. In other words we benefit from this having larger vocabulary information."
   ]
  },
  {
   "cell_type": "markdown",
   "metadata": {},
   "source": [
    "## Libs Imports\n",
    "- spacy: NLP library\n",
    "- displacy: spacy data displayer, just for this notebook\n",
    "- en_core_web_lg: English multi-task CNN trained on OntoNotes, with GloVe vectors trained on Common Crawl. Used for word tokenization. Assigns word vectors, context-specific token vectors, POS tags, dependency parse and named entities.\n",
    "- lemmatizer: spacy lib to compute word lemmas\n",
    "- Counter: collections helper function\n",
    "- tabulate, display, HTML: table display libs"
   ]
  },
  {
   "cell_type": "code",
   "execution_count": 1,
   "metadata": {},
   "outputs": [],
   "source": [
    "import spacy\n",
    "from spacy import displacy\n",
    "from collections import Counter\n",
    "import en_core_web_lg\n",
    "nlp = en_core_web_lg.load()\n",
    "from spacy.lang.en import LEMMA_INDEX, LEMMA_EXC, LEMMA_RULES\n",
    "from spacy.lemmatizer import Lemmatizer\n",
    "lemmatizer = Lemmatizer(LEMMA_INDEX, LEMMA_EXC, LEMMA_RULES)\n",
    "from tabulate import tabulate\n",
    "from IPython.core.display import display, HTML\n",
    "from check_change_module import *"
   ]
  },
  {
   "cell_type": "markdown",
   "metadata": {},
   "source": [
    "### How to analyze words?\n",
    "\n",
    "**SpaCy**\n",
    "\n",
    "To solve this exercise we can use [SpaCy](https://spacy.io/), a NLP python library which provides features as tokenization, med entity recognition and support for many languages.\n",
    "\n",
    "Using the spacy displayer we can see how it works, it decomposes sentences doing segmentation and word tagging. With this we can detect how the words are related and the role of each one.\n",
    "\n",
    "**Token analysis:**\n",
    "* Text: The original word text.\n",
    "* Lemma: The base form of the word.\n",
    "* POS: The simple part-of-speech tag.\n",
    "* Tag: The detailed part-of-speech tag.\n",
    "* Dep: Syntactic dependency, i.e. the relation between tokens.\n",
    "* Shape: The word shape – capitalization, punctuation, digits.\n",
    "* Alpha: Is the token an alpha character?\n",
    "* Stop: Is the token part of a stop list, i.e. the most common words of the language?"
   ]
  },
  {
   "cell_type": "code",
   "execution_count": 2,
   "metadata": {},
   "outputs": [
    {
     "name": "stdout",
     "output_type": "stream",
     "text": [
      "Tokens info:\n"
     ]
    },
    {
     "data": {
      "text/html": [
       "<table>\n",
       "<thead>\n",
       "<tr><th>TEXT  </th><th>LEMMA  </th><th>POS  </th><th>TAG  </th><th>DEP     </th><th>SHAPE  </th><th>ALPHA  </th><th>STOP  </th></tr>\n",
       "</thead>\n",
       "<tbody>\n",
       "<tr><td>3     </td><td>3      </td><td>NUM  </td><td>CD   </td><td>nummod  </td><td>d      </td><td>False  </td><td>False </td></tr>\n",
       "<tr><td>sugar </td><td>sugar  </td><td>NOUN </td><td>NN   </td><td>npadvmod</td><td>xxxx   </td><td>True   </td><td>False </td></tr>\n",
       "<tr><td>free  </td><td>free   </td><td>ADJ  </td><td>JJ   </td><td>amod    </td><td>xxxx   </td><td>True   </td><td>False </td></tr>\n",
       "<tr><td>sodas </td><td>soda   </td><td>NOUN </td><td>NNS  </td><td>ROOT    </td><td>xxxx   </td><td>True   </td><td>False </td></tr>\n",
       "</tbody>\n",
       "</table>"
      ],
      "text/plain": [
       "<IPython.core.display.HTML object>"
      ]
     },
     "metadata": {},
     "output_type": "display_data"
    },
    {
     "name": "stdout",
     "output_type": "stream",
     "text": [
      "Words relation:\n"
     ]
    },
    {
     "data": {
      "text/html": [
       "<svg xmlns=\"http://www.w3.org/2000/svg\" xmlns:xlink=\"http://www.w3.org/1999/xlink\" xml:lang=\"en\" id=\"3318cab198de4dd2b927cf35e57ed4b0-0\" class=\"displacy\" width=\"750\" height=\"224.5\" direction=\"ltr\" style=\"max-width: none; height: 224.5px; color: #000000; background: #ffffff; font-family: Arial; direction: ltr\">\n",
       "<text class=\"displacy-token\" fill=\"currentColor\" text-anchor=\"middle\" y=\"134.5\">\n",
       "    <tspan class=\"displacy-word\" fill=\"currentColor\" x=\"50\">3</tspan>\n",
       "    <tspan class=\"displacy-tag\" dy=\"2em\" fill=\"currentColor\" x=\"50\">NUM</tspan>\n",
       "</text>\n",
       "\n",
       "<text class=\"displacy-token\" fill=\"currentColor\" text-anchor=\"middle\" y=\"134.5\">\n",
       "    <tspan class=\"displacy-word\" fill=\"currentColor\" x=\"225\">sugar</tspan>\n",
       "    <tspan class=\"displacy-tag\" dy=\"2em\" fill=\"currentColor\" x=\"225\">NOUN</tspan>\n",
       "</text>\n",
       "\n",
       "<text class=\"displacy-token\" fill=\"currentColor\" text-anchor=\"middle\" y=\"134.5\">\n",
       "    <tspan class=\"displacy-word\" fill=\"currentColor\" x=\"400\">free</tspan>\n",
       "    <tspan class=\"displacy-tag\" dy=\"2em\" fill=\"currentColor\" x=\"400\">ADJ</tspan>\n",
       "</text>\n",
       "\n",
       "<text class=\"displacy-token\" fill=\"currentColor\" text-anchor=\"middle\" y=\"134.5\">\n",
       "    <tspan class=\"displacy-word\" fill=\"currentColor\" x=\"575\">sodas</tspan>\n",
       "    <tspan class=\"displacy-tag\" dy=\"2em\" fill=\"currentColor\" x=\"575\">NOUN</tspan>\n",
       "</text>\n",
       "\n",
       "<g class=\"displacy-arrow\">\n",
       "    <path class=\"displacy-arc\" id=\"arrow-3318cab198de4dd2b927cf35e57ed4b0-0-0\" stroke-width=\"2px\" d=\"M70,89.5 C70,2.0 225.0,2.0 225.0,89.5\" fill=\"none\" stroke=\"currentColor\"/>\n",
       "    <text dy=\"1.25em\" style=\"font-size: 0.8em; letter-spacing: 1px\">\n",
       "        <textPath xlink:href=\"#arrow-3318cab198de4dd2b927cf35e57ed4b0-0-0\" class=\"displacy-label\" startOffset=\"50%\" side=\"left\" fill=\"currentColor\" text-anchor=\"middle\">nummod</textPath>\n",
       "    </text>\n",
       "    <path class=\"displacy-arrowhead\" d=\"M70,91.5 L62,79.5 78,79.5\" fill=\"currentColor\"/>\n",
       "</g>\n",
       "\n",
       "<g class=\"displacy-arrow\">\n",
       "    <path class=\"displacy-arc\" id=\"arrow-3318cab198de4dd2b927cf35e57ed4b0-0-1\" stroke-width=\"2px\" d=\"M245,89.5 C245,2.0 400.0,2.0 400.0,89.5\" fill=\"none\" stroke=\"currentColor\"/>\n",
       "    <text dy=\"1.25em\" style=\"font-size: 0.8em; letter-spacing: 1px\">\n",
       "        <textPath xlink:href=\"#arrow-3318cab198de4dd2b927cf35e57ed4b0-0-1\" class=\"displacy-label\" startOffset=\"50%\" side=\"left\" fill=\"currentColor\" text-anchor=\"middle\">npadvmod</textPath>\n",
       "    </text>\n",
       "    <path class=\"displacy-arrowhead\" d=\"M245,91.5 L237,79.5 253,79.5\" fill=\"currentColor\"/>\n",
       "</g>\n",
       "\n",
       "<g class=\"displacy-arrow\">\n",
       "    <path class=\"displacy-arc\" id=\"arrow-3318cab198de4dd2b927cf35e57ed4b0-0-2\" stroke-width=\"2px\" d=\"M420,89.5 C420,2.0 575.0,2.0 575.0,89.5\" fill=\"none\" stroke=\"currentColor\"/>\n",
       "    <text dy=\"1.25em\" style=\"font-size: 0.8em; letter-spacing: 1px\">\n",
       "        <textPath xlink:href=\"#arrow-3318cab198de4dd2b927cf35e57ed4b0-0-2\" class=\"displacy-label\" startOffset=\"50%\" side=\"left\" fill=\"currentColor\" text-anchor=\"middle\">amod</textPath>\n",
       "    </text>\n",
       "    <path class=\"displacy-arrowhead\" d=\"M420,91.5 L412,79.5 428,79.5\" fill=\"currentColor\"/>\n",
       "</g>\n",
       "</svg>"
      ],
      "text/plain": [
       "<IPython.core.display.HTML object>"
      ]
     },
     "metadata": {},
     "output_type": "display_data"
    }
   ],
   "source": [
    "headers = \"TEXT,LEMMA,POS,TAG,DEP,SHAPE,ALPHA,STOP\".split(',')\n",
    "table = []\n",
    "doc = nlp('3 sugar free sodas')\n",
    "for token in doc:\n",
    "    table.append([token.text, token.lemma_, token.pos_, token.tag_, token.dep_,\n",
    "            token.shape_, token.is_alpha, token.is_stop])\n",
    "\n",
    "print(\"Tokens info:\")\n",
    "display(HTML(tabulate(table, headers, tablefmt=\"html\")))\n",
    "\n",
    "print(\"Words relation:\")\n",
    "displacy.render(doc, jupyter=True, style='dep')"
   ]
  },
  {
   "cell_type": "markdown",
   "metadata": {},
   "source": [
    "## Sentence class\n",
    "\n",
    "This class process all the components and behaviour of a sentence."
   ]
  },
  {
   "cell_type": "code",
   "execution_count": 3,
   "metadata": {},
   "outputs": [
    {
     "name": "stdout",
     "output_type": "stream",
     "text": [
      "Sentence: 2 large pepperoni pizzas\n",
      "Main Noun: pizzas\n",
      "Adjetive: large pepperoni\n",
      "Number: 2\n",
      "Adposition: \n",
      "Is plural?: True\n",
      " \n",
      "Sentence: Make one of the pizzas small\n",
      "Main Noun: pizzas\n",
      "Adjetive: small\n",
      "Number: 1\n",
      "Adposition: of\n",
      "Is plural?: True\n",
      " \n",
      "Sentence: Change the pizzas for pastas\n",
      "Main Noun: pastas\n",
      "Adjetive: \n",
      "Number: 0\n",
      "Adposition: for\n",
      "Is plural?: True\n",
      " \n"
     ]
    }
   ],
   "source": [
    "sentence_1 = Sentence('2 large pepperoni pizzas')\n",
    "sentence_2 = Sentence('Make one of the pizzas small')\n",
    "sentence_3 = Sentence('Change the pizzas for pastas')\n",
    "\n",
    "sts = [sentence_1, sentence_2, sentence_3]\n",
    "\n",
    "for st in sts:\n",
    "    print(f\"Sentence: {st.sentence}\")\n",
    "    print(f\"Main Noun: {st.noun}\")\n",
    "    print(f\"Adjetive: {st.adjetive}\")\n",
    "    print(f\"Number: {st.number}\")\n",
    "    print(f\"Adposition: {st.adposition}\")\n",
    "    print(f\"Is plural?: {st.is_plural(sentence_1.noun)}\")\n",
    "    print(\" \")"
   ]
  },
  {
   "cell_type": "markdown",
   "metadata": {},
   "source": [
    "## Order manager class\n",
    "\n",
    "This class is in charge of managing the order, comparing similarity between items and making the changes."
   ]
  },
  {
   "cell_type": "code",
   "execution_count": 4,
   "metadata": {},
   "outputs": [
    {
     "name": "stdout",
     "output_type": "stream",
     "text": [
      "['1 large pepperoni pizzas', '3 sugar free sodas', '1 small pizzas']\n"
     ]
    }
   ],
   "source": [
    "# Init manager and check result\n",
    "check = ['2 large pepperoni pizzas', '3 sugar free sodas']\n",
    "new_order = 'Make one of the pizzas small'\n",
    "order_manager = OrderManager(check, new_order) \n",
    "\n",
    "print(order_manager.new_check)"
   ]
  },
  {
   "cell_type": "markdown",
   "metadata": {},
   "source": [
    "## Main function\n",
    "\n",
    "Receives parameters, call the manager and return new check"
   ]
  },
  {
   "cell_type": "code",
   "execution_count": 5,
   "metadata": {},
   "outputs": [],
   "source": [
    "def change_check(check, new_order):\n",
    "    \"\"\"Main function. Receives the check and new order, returns the new check.\n",
    "        arguments: \n",
    "          string array -- the array with the order items\n",
    "          string       -- the change requeriment \n",
    "        return: \n",
    "          string array -- the new check\n",
    "    \"\"\"\n",
    "    order_manager = OrderManager(check, new_order)   \n",
    "    new_check = order_manager.new_check\n",
    "\n",
    "    return new_check"
   ]
  },
  {
   "cell_type": "markdown",
   "metadata": {},
   "source": [
    "## Testing\n",
    "\n",
    "Create an example check, load some test new orders and validate results"
   ]
  },
  {
   "cell_type": "code",
   "execution_count": 6,
   "metadata": {},
   "outputs": [],
   "source": [
    "# %load tests.py\n",
    "from check_change_module import *\n",
    "\n",
    "check = ['2 large pepperoni pizzas', '3 sugar free sodas']\n",
    "test_new_orders = [\n",
    "    'Make one of the pizzas small',\n",
    "    'Make two of the drinks a regular',\n",
    "    'Make 3 sodas regular',\n",
    "    'Change a soda for wine',\n",
    "    'Change the pizzas for pastas',\n",
    "    'Change the sodas with cocktails'\n",
    "]\n",
    "\n",
    "valid_new_checks = [\n",
    "    ['1 large pepperoni pizzas', '3 sugar free sodas', '1 small pizzas'],\n",
    "    ['2 large pepperoni pizzas', '1 sugar free sodas', '2 regular drinks'],\n",
    "    ['2 large pepperoni pizzas', '3 regular sodas'],\n",
    "    ['2 large pepperoni pizzas', '2 sugar free sodas', '1  wine'],\n",
    "    ['3 sugar free sodas', '2  pastas'],\n",
    "    ['2 large pepperoni pizzas', '3  cocktails']\n",
    "]\n",
    "\n",
    "for key, new_order in enumerate(test_new_orders):\n",
    "    new_check = change_check(check, new_order)\n",
    "    assert new_check == valid_new_checks[key], f\"Error in key {key}. The generated new check is not valid: {new_check}\""
   ]
  }
 ],
 "metadata": {
  "kernelspec": {
   "display_name": "Python 3",
   "language": "python",
   "name": "python3"
  },
  "language_info": {
   "codemirror_mode": {
    "name": "ipython",
    "version": 3
   },
   "file_extension": ".py",
   "mimetype": "text/x-python",
   "name": "python",
   "nbconvert_exporter": "python",
   "pygments_lexer": "ipython3",
   "version": "3.7.2"
  }
 },
 "nbformat": 4,
 "nbformat_minor": 2
}
